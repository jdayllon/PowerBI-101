{
 "cells": [
  {
   "cell_type": "markdown",
   "metadata": {},
   "source": [
    "# Issue JSON reducer\n",
    "\n",
    "issues.pickle has downloaded info from github api. kubernetes/kubernetes is a big resource of issues (about 84k  on 2019.11.03) but is huge for use case. In this notebook i will reduce it to make easier to process into PowerBI"
   ]
  },
  {
   "cell_type": "code",
   "execution_count": null,
   "metadata": {},
   "outputs": [],
   "source": [
    "!pip install scalpl"
   ]
  },
  {
   "cell_type": "code",
   "execution_count": 1,
   "metadata": {},
   "outputs": [
    {
     "name": "stdout",
     "output_type": "stream",
     "text": [
      "-rw-rw-r-- 1 jdayllon jdayllon 2,3G nov 16 09:50 ../resources/commits_pages.pickle\n",
      "-rw-rw-r-- 1 jdayllon jdayllon 1,9G nov 17 10:43 ../resources/commits.pickle\n",
      "-rw-rw-r-- 1 jdayllon jdayllon 496M nov  4 10:35 ../resources/issues.pickle\n",
      "-rw-rw-r-- 1 jdayllon jdayllon 921M nov 10 08:29 ../resources/pull_requests.pickle\n",
      "-rw-rw-r-- 1 jdayllon jdayllon 1,3M nov 17 18:48 ../resources/releases.pickle\n",
      "-rw-rw-r-- 1 jdayllon jdayllon 2,3G nov 16 09:50 ../resources/commits_pages.pickle\n",
      "-rw-rw-r-- 1 jdayllon jdayllon 1,9G nov 17 10:43 ../resources/commits.pickle\n",
      "-rw-rw-r-- 1 jdayllon jdayllon 496M nov  4 10:35 ../resources/issues.pickle\n",
      "-rw-rw-r-- 1 jdayllon jdayllon 921M nov 10 08:29 ../resources/pull_requests.pickle\n",
      "-rw-rw-r-- 1 jdayllon jdayllon 1,3M nov 17 18:48 ../resources/releases.pickle\n"
     ]
    }
   ],
   "source": [
    "!ls -alh ../resources/*.pickle"
   ]
  },
  {
   "cell_type": "markdown",
   "metadata": {},
   "source": [
    "# Base"
   ]
  },
  {
   "cell_type": "code",
   "execution_count": 4,
   "metadata": {},
   "outputs": [],
   "source": [
    "import pickle\n",
    "from scalpl import Cut\n",
    "import json\n",
    "from tqdm.notebook import trange, tqdm"
   ]
  },
  {
   "cell_type": "code",
   "execution_count": 5,
   "metadata": {},
   "outputs": [],
   "source": [
    "def clear_key_pattern(c_dict, key_pattern):\n",
    "    # Proxy object to walk over it\n",
    "    proxy_dict = Cut(c_dict)\n",
    "    # Proxy object to operate data and return it\n",
    "    data_dict = proxy_dict.copy()\n",
    "    \n",
    "    for i in proxy_dict.items():\n",
    "        key = i[0]\n",
    "        value = i[1]\n",
    "        if key_pattern in key:\n",
    "            #print(f\"|{key}|{type(i[1])}\")\n",
    "            del data_dict[key]\n",
    "            \n",
    "        if type(value) is dict:\n",
    "            data_dict[key] = clear_key_pattern(value, key_pattern)\n",
    "            \n",
    "        if type(value) is list:\n",
    "            n_ele = []\n",
    "            for c_value in value:\n",
    "                n_ele.append(clear_key_pattern(c_value, key_pattern))\n",
    "            data_dict[key] = n_ele\n",
    "            \n",
    "    return data_dict"
   ]
  },
  {
   "cell_type": "code",
   "execution_count": 17,
   "metadata": {},
   "outputs": [],
   "source": [
    "def extract_list_items(data, key_list):\n",
    "    extracted_elements = []\n",
    "\n",
    "    for i in tqdm(data.items()):\n",
    "        key = i[0]\n",
    "        value = i[1]\n",
    "\n",
    "        if key_list in value:\n",
    "            for c_value_j in value[key_list]:\n",
    "                c_value_j['number'] = key\n",
    "                extracted_elements.append(c_value_j)\n",
    "\n",
    "    return extracted_elements\n"
   ]
  },
  {
   "cell_type": "code",
   "execution_count": 36,
   "metadata": {},
   "outputs": [],
   "source": [
    "def extract_element_w_key(data, origin_key, target_key):\n",
    "    if origin_key in data and type(data[origin_key]) is dict:\n",
    "        if target_key in data[origin_key]:\n",
    "            return data[origin_key][target_key]\n",
    "    return None"
   ]
  },
  {
   "cell_type": "markdown",
   "metadata": {},
   "source": [
    "# Reduce Issue Info"
   ]
  },
  {
   "cell_type": "code",
   "execution_count": null,
   "metadata": {},
   "outputs": [],
   "source": [
    "with open('../resources/issues.pickle', 'rb') as handle:\n",
    "    issues = pickle.load(handle)"
   ]
  },
  {
   "cell_type": "code",
   "execution_count": null,
   "metadata": {},
   "outputs": [],
   "source": [
    "reduced_issues = {}\n",
    "\n",
    "for i in tqdm(issues.items()):\n",
    "    key = i[0]\n",
    "    value = i[1]\n",
    "\n",
    "    c_issue = clear_key_pattern(value, \"url\")\n",
    "    c_issue = clear_key_pattern(c_issue, \"node_id\")\n",
    "    c_issue = clear_key_pattern(c_issue, \"body\")\n",
    "    reduced_issues[key] = c_issue"
   ]
  },
  {
   "cell_type": "code",
   "execution_count": null,
   "metadata": {},
   "outputs": [],
   "source": [
    "with open(\"../resources/issues_list_reduced.json\", \"w\") as handle:\n",
    "    json.dump(list(reduced_issues.values()), handle)"
   ]
  },
  {
   "cell_type": "code",
   "execution_count": null,
   "metadata": {},
   "outputs": [],
   "source": [
    "labels = extract_list_items(reduced_issues,'labels')"
   ]
  },
  {
   "cell_type": "code",
   "execution_count": null,
   "metadata": {},
   "outputs": [],
   "source": [
    "with open(\"../resources/issues_labels.json\", \"w\") as handle:\n",
    "    json.dump(labels, handle)"
   ]
  },
  {
   "cell_type": "code",
   "execution_count": null,
   "metadata": {},
   "outputs": [],
   "source": [
    "assignees = extract_list_items(reduced_issues,'assignees')"
   ]
  },
  {
   "cell_type": "code",
   "execution_count": null,
   "metadata": {},
   "outputs": [],
   "source": [
    "with open(\"../resources/issues_assignees.json\", \"w\") as handle:\n",
    "    json.dump(assignees, handle)"
   ]
  },
  {
   "cell_type": "code",
   "execution_count": null,
   "metadata": {},
   "outputs": [],
   "source": [
    "curated_issues = {}\n",
    "\n",
    "for i in tqdm(reduced_issues.copy().items()):\n",
    "    key = i[0]\n",
    "    value = i[1]\n",
    "\n",
    "    value['user'] = extract_element_w_key(value, 'user', 'login')\n",
    "    value['closed_by'] = extract_element_w_key(value, 'closed_by', 'login')\n",
    "    value['assignee'] = extract_element_w_key(value, 'assignee', 'login')\n",
    "    value['milestone'] = extract_element_w_key(value, 'milestone', 'title')\n",
    "    if 'labels' in value:\n",
    "        del value['labels']\n",
    "    if 'assignees' in value:\n",
    "        del value['assignees']\n",
    "    if 'pull_request' in value:\n",
    "        del value['pull_request']        \n",
    "    curated_issues[key] = value\n",
    "    "
   ]
  },
  {
   "cell_type": "code",
   "execution_count": null,
   "metadata": {},
   "outputs": [],
   "source": [
    "with open(\"../resources/issues_curated.json\", \"w\") as handle:\n",
    "    json.dump(list(curated_issues.values()), handle)"
   ]
  },
  {
   "cell_type": "markdown",
   "metadata": {},
   "source": [
    "<h3 style=\"color:red;\">Clear memory</h3>"
   ]
  },
  {
   "cell_type": "code",
   "execution_count": null,
   "metadata": {},
   "outputs": [],
   "source": [
    "del curated_issues\n",
    "del reduced_issues\n",
    "del issues"
   ]
  },
  {
   "cell_type": "markdown",
   "metadata": {},
   "source": [
    "# Reduce Pull Requests Data"
   ]
  },
  {
   "cell_type": "code",
   "execution_count": null,
   "metadata": {},
   "outputs": [],
   "source": [
    "with open('../resources/pull_requests.pickle', 'rb') as handle:\n",
    "    pull_requests = pickle.load(handle)"
   ]
  },
  {
   "cell_type": "code",
   "execution_count": null,
   "metadata": {},
   "outputs": [],
   "source": [
    "reduced_pulls = {}\n",
    "\n",
    "for i in tqdm(pull_requests.items()):\n",
    "    key = i[0]\n",
    "    value = i[1]\n",
    "\n",
    "    c = clear_key_pattern(value, \"url\")\n",
    "    c = clear_key_pattern(c, \"node_id\")\n",
    "    c = clear_key_pattern(c, \"body\")\n",
    "    reduced_pulls[key] = c"
   ]
  },
  {
   "cell_type": "code",
   "execution_count": null,
   "metadata": {},
   "outputs": [],
   "source": [
    "pull_requests_labels = extract_list_items(reduced_pulls,'labels')\n",
    "pull_requests_assignees = extract_list_items(reduced_pulls,'assignees')\n",
    "pull_requests_requested_reviewers = extract_list_items(reduced_pulls,'requested_reviewers')\n",
    "#pull_requests_requested_head = extract_list_items(reduced_pulls,'head')\n",
    "#pull_requests_base = extract_list_items(reduced_pulls,'base')"
   ]
  },
  {
   "cell_type": "code",
   "execution_count": null,
   "metadata": {},
   "outputs": [],
   "source": [
    "curated_pull_requets = {}\n",
    "\n",
    "for i in tqdm(reduced_pulls.copy().items()):\n",
    "    key = i[0]\n",
    "    value = i[1]\n",
    "\n",
    "    value['user'] = extract_element_w_key(value, 'user', 'login')\n",
    "    value['assignee'] = extract_element_w_key(value, 'assignee', 'login')\n",
    "    value['milestone'] = extract_element_w_key(value, 'milestone', 'title')\n",
    "    if 'labels' in value:\n",
    "        del value['labels']\n",
    "    if 'assignees' in value:\n",
    "        del value['assignees']\n",
    "    if 'requested_reviewers' in value:\n",
    "        del value['requested_reviewers']        \n",
    "    #if 'head' in value:\n",
    "    #    del value['head']\n",
    "    #if 'base' in value:\n",
    "    #    del value['base']\n",
    "    curated_pull_requets[key] = value"
   ]
  },
  {
   "cell_type": "code",
   "execution_count": null,
   "metadata": {},
   "outputs": [],
   "source": [
    "with open(\"../resources/curated_pull_requets.json\", \"w\") as handle:\n",
    "    json.dump(list(curated_pull_requets.values()), handle)"
   ]
  },
  {
   "cell_type": "markdown",
   "metadata": {},
   "source": [
    "<h3 style=\"color:red;\">Clear memory</h3>"
   ]
  },
  {
   "cell_type": "code",
   "execution_count": null,
   "metadata": {},
   "outputs": [],
   "source": [
    "del pull_requests\n",
    "del reduced_pulls\n",
    "del curated_pull_requets"
   ]
  },
  {
   "cell_type": "markdown",
   "metadata": {},
   "source": [
    "# Reduce Releases Info"
   ]
  },
  {
   "cell_type": "code",
   "execution_count": null,
   "metadata": {},
   "outputs": [],
   "source": [
    "with open('../resources/releases.pickle', 'rb') as handle:\n",
    "    releases = pickle.load(handle)"
   ]
  },
  {
   "cell_type": "code",
   "execution_count": null,
   "metadata": {},
   "outputs": [],
   "source": [
    "reduced_releases = {}\n",
    "\n",
    "for i in tqdm(releases.items()):\n",
    "    key = i[0]\n",
    "    value = i[1]\n",
    "\n",
    "    c = clear_key_pattern(value, \"url\")\n",
    "    c = clear_key_pattern(c, \"node_id\")\n",
    "    c = clear_key_pattern(c, \"body\")\n",
    "    reduced_releases[key] = c"
   ]
  },
  {
   "cell_type": "code",
   "execution_count": null,
   "metadata": {},
   "outputs": [],
   "source": [
    "assets = extract_list_items(reduced_releases,'assets')"
   ]
  },
  {
   "cell_type": "code",
   "execution_count": null,
   "metadata": {},
   "outputs": [],
   "source": [
    "curated_releases = {}\n",
    "\n",
    "for i in tqdm(reduced_releases.copy().items()):\n",
    "    key = i[0]\n",
    "    value = i[1]\n",
    "\n",
    "    value['author'] = extract_element_w_key(value, 'author', 'login')\n",
    "    #value['assignee'] = extract_element_w_key(value, 'assignee', 'login')\n",
    "    #value['milestone'] = extract_element_w_key(value, 'milestone', 'title')\n",
    "    if 'assets' in value:\n",
    "        del value['assets']\n",
    "\n",
    "    curated_releases[key] = value"
   ]
  },
  {
   "cell_type": "code",
   "execution_count": null,
   "metadata": {},
   "outputs": [],
   "source": [
    "with open(\"../resources/curated_releases.json\", \"w\") as handle:\n",
    "    json.dump(list(curated_releases.values()), handle)"
   ]
  },
  {
   "cell_type": "markdown",
   "metadata": {},
   "source": [
    "<h3 style=\"color:red;\">Clear memory</h3>"
   ]
  },
  {
   "cell_type": "code",
   "execution_count": null,
   "metadata": {},
   "outputs": [],
   "source": [
    "del releases\n",
    "del reduced_releases\n",
    "del curated_releases"
   ]
  },
  {
   "cell_type": "markdown",
   "metadata": {},
   "source": [
    "# Reduce Commits Info"
   ]
  },
  {
   "cell_type": "code",
   "execution_count": 7,
   "metadata": {},
   "outputs": [],
   "source": [
    "with open('../resources/commits.pickle', 'rb') as handle:\n",
    "    commits = pickle.load(handle)"
   ]
  },
  {
   "cell_type": "code",
   "execution_count": 52,
   "metadata": {},
   "outputs": [
    {
     "data": {
      "application/vnd.jupyter.widget-view+json": {
       "model_id": "f92b2898670a4f45a20c3a75c1d3b5bd",
       "version_major": 2,
       "version_minor": 0
      },
      "text/plain": [
       "HBox(children=(IntProgress(value=0, max=85813), HTML(value='')))"
      ]
     },
     "metadata": {},
     "output_type": "display_data"
    },
    {
     "data": {
      "application/vnd.jupyter.widget-view+json": {
       "model_id": "f92b2898670a4f45a20c3a75c1d3b5bd",
       "version_major": 2,
       "version_minor": 0
      },
      "text/plain": [
       "HBox(children=(IntProgress(value=0, max=85813), HTML(value='')))"
      ]
     },
     "metadata": {},
     "output_type": "display_data"
    },
    {
     "name": "stdout",
     "output_type": "stream",
     "text": [
      "\n",
      "\n"
     ]
    }
   ],
   "source": [
    "reduced_commits = {}\n",
    "\n",
    "for i in tqdm(commits.items()):\n",
    "    key = i[0]\n",
    "    value = i[1]\n",
    "\n",
    "    c = clear_key_pattern(value, \"url\")\n",
    "    c = clear_key_pattern(c, \"node_id\")\n",
    "    c = clear_key_pattern(c, \"body\")\n",
    "    reduced_commits[key] = c"
   ]
  },
  {
   "cell_type": "code",
   "execution_count": null,
   "metadata": {},
   "outputs": [],
   "source": [
    "commits_parents = extract_list_items(reduced_commits,'parents')"
   ]
  },
  {
   "cell_type": "code",
   "execution_count": 50,
   "metadata": {},
   "outputs": [
    {
     "data": {
      "application/vnd.jupyter.widget-view+json": {
       "model_id": "af84b3fb4bf64eaf84a6c2ab513e7a37",
       "version_major": 2,
       "version_minor": 0
      },
      "text/plain": [
       "HBox(children=(IntProgress(value=0, max=85813), HTML(value='')))"
      ]
     },
     "metadata": {},
     "output_type": "display_data"
    },
    {
     "data": {
      "application/vnd.jupyter.widget-view+json": {
       "model_id": "af84b3fb4bf64eaf84a6c2ab513e7a37",
       "version_major": 2,
       "version_minor": 0
      },
      "text/plain": [
       "HBox(children=(IntProgress(value=0, max=85813), HTML(value='')))"
      ]
     },
     "metadata": {},
     "output_type": "display_data"
    },
    {
     "name": "stdout",
     "output_type": "stream",
     "text": [
      "\n",
      "\n"
     ]
    }
   ],
   "source": [
    "curated_commits = {}\n",
    "\n",
    "for i in tqdm(reduced_commits.copy().items()):\n",
    "    key = i[0]\n",
    "    value = i[1]\n",
    "    proxy = Cut(value)\n",
    "\n",
    "    value['author'] = proxy['commit.author.name']\n",
    "    value['date'] = proxy['commit.author.date']\n",
    "    value['message'] = proxy['commit.message']\n",
    "    value['committer'] = proxy['commit.committer.name']\n",
    "    value['login'] = proxy['commit.committer.name']\n",
    "    #value['assignee'] = extract_element_w_key(value, 'assignee', 'login')\n",
    "    #value['milestone'] = extract_element_w_key(value, 'milestone', 'title')\n",
    "    if 'commit' in value:\n",
    "        del value['commit']\n",
    "\n",
    "    curated_commits[key] = value"
   ]
  },
  {
   "cell_type": "code",
   "execution_count": 67,
   "metadata": {},
   "outputs": [
    {
     "ename": "KeyError",
     "evalue": "'402e551ca27499a9dc211dd6e4eca21d9aa9d089'",
     "output_type": "error",
     "traceback": [
      "\u001b[0;31m---------------------------------------------------------------------------\u001b[0m",
      "\u001b[0;31mKeyError\u001b[0m                                  Traceback (most recent call last)",
      "\u001b[0;32m<ipython-input-67-79b25f4af206>\u001b[0m in \u001b[0;36m<module>\u001b[0;34m\u001b[0m\n\u001b[1;32m      4\u001b[0m \u001b[0;31m#c0.data\u001b[0m\u001b[0;34m\u001b[0m\u001b[0;34m\u001b[0m\u001b[0;34m\u001b[0m\u001b[0m\n\u001b[1;32m      5\u001b[0m \u001b[0;31m#cut(k0)\u001b[0m\u001b[0;34m\u001b[0m\u001b[0;34m\u001b[0m\u001b[0;34m\u001b[0m\u001b[0m\n\u001b[0;32m----> 6\u001b[0;31m \u001b[0mcurated_commits\u001b[0m\u001b[0;34m[\u001b[0m\u001b[0mk0\u001b[0m\u001b[0;34m]\u001b[0m\u001b[0;34m\u001b[0m\u001b[0;34m\u001b[0m\u001b[0m\n\u001b[0m",
      "\u001b[0;31mKeyError\u001b[0m: '402e551ca27499a9dc211dd6e4eca21d9aa9d089'"
     ]
    }
   ],
   "source": [
    "k0 = list(reduced_commits.keys())[0]\n",
    "#c0 = Cut(k0)\n",
    "#c0['commit.author.name']\n",
    "#c0.data\n",
    "#cut(k0)\n",
    "curated_commitsted_commits[k0]"
   ]
  },
  {
   "cell_type": "code",
   "execution_count": 61,
   "metadata": {},
   "outputs": [
    {
     "data": {
      "text/plain": [
       "'k8s-ci-robot'"
      ]
     },
     "execution_count": 61,
     "metadata": {},
     "output_type": "execute_result"
    },
    {
     "data": {
      "text/plain": [
       "'k8s-ci-robot'"
      ]
     },
     "execution_count": 61,
     "metadata": {},
     "output_type": "execute_result"
    }
   ],
   "source": [
    "c0['author.login']"
   ]
  },
  {
   "cell_type": "code",
   "execution_count": null,
   "metadata": {},
   "outputs": [],
   "source": []
  },
  {
   "cell_type": "markdown",
   "metadata": {},
   "source": [
    "<h3 style=\"color:red;\">Clear memory</h3>"
   ]
  },
  {
   "cell_type": "code",
   "execution_count": null,
   "metadata": {},
   "outputs": [],
   "source": [
    "del commits\n",
    "del reduced_commits\n",
    "del curated_commits"
   ]
  }
 ],
 "metadata": {
  "kernelspec": {
   "display_name": "Python 3",
   "language": "python",
   "name": "python3"
  },
  "language_info": {
   "codemirror_mode": {
    "name": "ipython",
    "version": 3
   },
   "file_extension": ".py",
   "mimetype": "text/x-python",
   "name": "python",
   "nbconvert_exporter": "python",
   "pygments_lexer": "ipython3",
   "version": "3.7.4"
  }
 },
 "nbformat": 4,
 "nbformat_minor": 2
}
