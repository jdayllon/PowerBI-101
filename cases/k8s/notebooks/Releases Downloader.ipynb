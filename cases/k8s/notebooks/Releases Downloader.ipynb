{
 "cells": [
  {
   "cell_type": "code",
   "execution_count": null,
   "metadata": {},
   "outputs": [],
   "source": [
    "!pip install --upgrade PyGithub tqdm arrow python-dotenv"
   ]
  },
  {
   "cell_type": "code",
   "execution_count": 1,
   "metadata": {},
   "outputs": [],
   "source": [
    "from github import Github, RateLimitExceededException\n",
    "import pandas as pd\n",
    "import json\n",
    "from tqdm.notebook import trange, tqdm\n",
    "import arrow\n",
    "from time import sleep\n",
    "import pickle\n",
    "from dotenv import load_dotenv\n",
    "import os\n",
    "\n",
    "load_dotenv()\n",
    "GITHUB_KEY = os.getenv(\"GITHUB_KEY\")"
   ]
  },
  {
   "cell_type": "code",
   "execution_count": 2,
   "metadata": {},
   "outputs": [],
   "source": [
    "g = Github(GITHUB_KEY)"
   ]
  },
  {
   "cell_type": "code",
   "execution_count": 3,
   "metadata": {},
   "outputs": [],
   "source": [
    "#arrow.get(g.rate_limiting_resettime)"
   ]
  },
  {
   "cell_type": "code",
   "execution_count": 4,
   "metadata": {},
   "outputs": [
    {
     "data": {
      "text/plain": [
       "(4996, 5000)"
      ]
     },
     "execution_count": 4,
     "metadata": {},
     "output_type": "execute_result"
    }
   ],
   "source": [
    "g.rate_limiting"
   ]
  },
  {
   "cell_type": "code",
   "execution_count": 5,
   "metadata": {},
   "outputs": [],
   "source": [
    "repo = g.get_repo(\"kubernetes/kubernetes\")"
   ]
  },
  {
   "cell_type": "markdown",
   "metadata": {},
   "source": [
    "# Releases"
   ]
  },
  {
   "cell_type": "code",
   "execution_count": 6,
   "metadata": {},
   "outputs": [
    {
     "name": "stdout",
     "output_type": "stream",
     "text": [
      "353\n"
     ]
    }
   ],
   "source": [
    "github_releases = repo.get_releases()\n",
    "total_releases = github_releases.totalCount\n",
    "print(total_releases)"
   ]
  },
  {
   "cell_type": "code",
   "execution_count": 10,
   "metadata": {},
   "outputs": [
    {
     "name": "stdout",
     "output_type": "stream",
     "text": [
      "Fail in load releases pickle, commit will be empty\n"
     ]
    }
   ],
   "source": [
    "try:\n",
    "    with open('../resources/releases.pickle', 'rb') as handle:\n",
    "        releases = pickle.load(handle)\n",
    "        print(f\"Loaded {len(releases.values())} commits from pickle\")\n",
    "except:\n",
    "    print(\"Fail in load releases pickle, commit will be empty\")\n",
    "    releases = {}"
   ]
  },
  {
   "cell_type": "code",
   "execution_count": 25,
   "metadata": {},
   "outputs": [
    {
     "data": {
      "application/vnd.jupyter.widget-view+json": {
       "model_id": "8064d847c2be49daa0a6fad3bcce2ca9",
       "version_major": 2,
       "version_minor": 0
      },
      "text/plain": [
       "HBox(children=(IntProgress(value=0, description='GitHub Releases', max=12, style=ProgressStyle(description_wid…"
      ]
     },
     "metadata": {},
     "output_type": "display_data"
    },
    {
     "name": "stdout",
     "output_type": "stream",
     "text": [
      "\n"
     ]
    }
   ],
   "source": [
    "for i in trange(int(total_releases/30)+1, desc='GitHub Releases'):\n",
    "    #if i not in github_releases.get_page(i):\n",
    "        #commit_pages[i] = github_commits.get_page(i)\n",
    "    for c_releases in github_releases.get_page(i):\n",
    "        tag_name = c_releases.tag_name\n",
    "        if tag_name not in releases:\n",
    "            releases[tag_name] = c_releases.raw_data\n",
    "            sleep(1)\n",
    "        else:\n",
    "            break"
   ]
  },
  {
   "cell_type": "code",
   "execution_count": 26,
   "metadata": {},
   "outputs": [
    {
     "name": "stdout",
     "output_type": "stream",
     "text": [
      "Now there are 353 commits on pickle\n"
     ]
    }
   ],
   "source": [
    "print(f\"Now there are {len(releases.values())} commits on pickle\")"
   ]
  },
  {
   "cell_type": "code",
   "execution_count": 28,
   "metadata": {},
   "outputs": [],
   "source": [
    "with open('../resources/releases.pickle', 'wb') as handle:\n",
    "    pickle.dump(releases, handle, protocol=pickle.HIGHEST_PROTOCOL)"
   ]
  }
 ],
 "metadata": {
  "kernelspec": {
   "display_name": "Python 3",
   "language": "python",
   "name": "python3"
  },
  "language_info": {
   "codemirror_mode": {
    "name": "ipython",
    "version": 3
   },
   "file_extension": ".py",
   "mimetype": "text/x-python",
   "name": "python",
   "nbconvert_exporter": "python",
   "pygments_lexer": "ipython3",
   "version": "3.7.4"
  }
 },
 "nbformat": 4,
 "nbformat_minor": 2
}
