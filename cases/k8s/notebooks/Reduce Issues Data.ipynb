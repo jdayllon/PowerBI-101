{
 "cells": [
  {
   "cell_type": "markdown",
   "metadata": {},
   "source": [
    "# Issue JSON reducer\n",
    "\n",
    "issues.pickle has downloaded info from github api. kubernetes/kubernetes is a big resource of issues (about 84k  on 2019.11.03) but is huge for use case. In this notebook i will reduce it to make easier to process into PowerBI"
   ]
  },
  {
   "cell_type": "code",
   "execution_count": null,
   "metadata": {},
   "outputs": [],
   "source": [
    "!pip install scalpl"
   ]
  },
  {
   "cell_type": "code",
   "execution_count": null,
   "metadata": {},
   "outputs": [],
   "source": [
    "import pickle\n",
    "from scalpl import Cut\n",
    "import json\n",
    "from tqdm.notebook import trange, tqdm"
   ]
  },
  {
   "cell_type": "code",
   "execution_count": null,
   "metadata": {},
   "outputs": [],
   "source": [
    "with open('issues.pickle', 'rb') as handle:\n",
    "    issues = pickle.load(handle)"
   ]
  },
  {
   "cell_type": "code",
   "execution_count": null,
   "metadata": {},
   "outputs": [],
   "source": [
    "def clear_key_pattern(c_dict, key_pattern):\n",
    "    # Proxy object to walk over it\n",
    "    proxy_dict = Cut(c_dict)\n",
    "    # Proxy object to operate data and return it\n",
    "    data_dict = proxy_dict.copy()\n",
    "    \n",
    "    for i in proxy_dict.items():\n",
    "        key = i[0]\n",
    "        value = i[1]\n",
    "        if key_pattern in key:\n",
    "            #print(f\"|{key}|{type(i[1])}\")\n",
    "            del data_dict[key]\n",
    "            \n",
    "        if type(value) is dict:\n",
    "            data_dict[key] = clear_key_pattern(value, key_pattern)\n",
    "            \n",
    "        if type(value) is list:\n",
    "            n_ele = []\n",
    "            for c_value in value:\n",
    "                n_ele.append(clear_key_pattern(c_value, key_pattern))\n",
    "            data_dict[key] = n_ele\n",
    "            \n",
    "    return data_dict"
   ]
  },
  {
   "cell_type": "code",
   "execution_count": null,
   "metadata": {},
   "outputs": [],
   "source": [
    "reduced_issues = {}\n",
    "\n",
    "for i in tqdm(issues.items()):\n",
    "    key = i[0]\n",
    "    value = i[1]\n",
    "\n",
    "    c_issue = clear_key_pattern(value, \"url\")\n",
    "    c_issue = clear_key_pattern(c_issue, \"node_id\")\n",
    "    c_issue = clear_key_pattern(c_issue, \"body\")\n",
    "    reduced_issues[key] = c_issue"
   ]
  },
  {
   "cell_type": "code",
   "execution_count": null,
   "metadata": {},
   "outputs": [],
   "source": [
    "with open(\"issues_list_reduced.json\", \"w\") as handle:\n",
    "    json.dump(list(reduced_issues.values()), handle)"
   ]
  },
  {
   "cell_type": "code",
   "execution_count": null,
   "metadata": {},
   "outputs": [],
   "source": []
  }
 ],
 "metadata": {
  "kernelspec": {
   "display_name": "Python 3",
   "language": "python",
   "name": "python3"
  },
  "language_info": {
   "codemirror_mode": {
    "name": "ipython",
    "version": 3
   },
   "file_extension": ".py",
   "mimetype": "text/x-python",
   "name": "python",
   "nbconvert_exporter": "python",
   "pygments_lexer": "ipython3",
   "version": "3.7.3"
  }
 },
 "nbformat": 4,
 "nbformat_minor": 2
}
