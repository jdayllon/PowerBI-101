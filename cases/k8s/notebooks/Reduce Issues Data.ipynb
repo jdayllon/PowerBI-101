{
 "cells": [
  {
   "cell_type": "markdown",
   "metadata": {},
   "source": [
    "# Issue JSON reducer\n",
    "\n",
    "issues.pickle has downloaded info from github api. kubernetes/kubernetes is a big resource of issues (about 84k  on 2019.11.03) but is huge for use case. In this notebook i will reduce it to make easier to process into PowerBI"
   ]
  },
  {
   "cell_type": "code",
   "execution_count": null,
   "metadata": {},
   "outputs": [],
   "source": [
    "!pip install scalpl"
   ]
  },
  {
   "cell_type": "code",
   "execution_count": null,
   "metadata": {},
   "outputs": [],
   "source": [
    "!ls -alh ../resources/*.pickle"
   ]
  },
  {
   "cell_type": "markdown",
   "metadata": {},
   "source": [
    "# Base"
   ]
  },
  {
   "cell_type": "code",
   "execution_count": null,
   "metadata": {},
   "outputs": [],
   "source": [
    "import pickle\n",
    "from scalpl import Cut\n",
    "import json\n",
    "from tqdm.notebook import trange, tqdm"
   ]
  },
  {
   "cell_type": "code",
   "execution_count": null,
   "metadata": {},
   "outputs": [],
   "source": [
    "def clear_key_pattern(c_dict, key_pattern):\n",
    "    # Proxy object to walk over it\n",
    "    proxy_dict = Cut(c_dict)\n",
    "    # Proxy object to operate data and return it\n",
    "    data_dict = proxy_dict.copy()\n",
    "    \n",
    "    for i in proxy_dict.items():\n",
    "        key = i[0]\n",
    "        value = i[1]\n",
    "        if key_pattern in key:\n",
    "            #print(f\"|{key}|{type(i[1])}\")\n",
    "            del data_dict[key]\n",
    "            \n",
    "        if type(value) is dict:\n",
    "            data_dict[key] = clear_key_pattern(value, key_pattern)\n",
    "            \n",
    "        if type(value) is list:\n",
    "            n_ele = []\n",
    "            for c_value in value:\n",
    "                n_ele.append(clear_key_pattern(c_value, key_pattern))\n",
    "            data_dict[key] = n_ele\n",
    "            \n",
    "    return data_dict"
   ]
  },
  {
   "cell_type": "code",
   "execution_count": null,
   "metadata": {},
   "outputs": [],
   "source": [
    "def extract_list_items(data, key_list, id_field = 'number'):\n",
    "    extracted_elements = []\n",
    "\n",
    "    for i in tqdm(data.items()):\n",
    "        key = i[0]\n",
    "        value = i[1]\n",
    "\n",
    "        if key_list in value:\n",
    "            for c_value_j in value[key_list]:\n",
    "                c_value_j[id_field] = key\n",
    "                extracted_elements.append(c_value_j)\n",
    "\n",
    "    return extracted_elements\n"
   ]
  },
  {
   "cell_type": "code",
   "execution_count": null,
   "metadata": {},
   "outputs": [],
   "source": [
    "def extract_element_w_key(data, origin_key, target_key):\n",
    "    if origin_key in data and type(data[origin_key]) is dict:\n",
    "        if target_key in data[origin_key]:\n",
    "            return data[origin_key][target_key]\n",
    "    return None"
   ]
  },
  {
   "cell_type": "markdown",
   "metadata": {},
   "source": [
    "# Reduce Issue Info"
   ]
  },
  {
   "cell_type": "code",
   "execution_count": null,
   "metadata": {},
   "outputs": [],
   "source": [
    "with open('../resources/issues.pickle', 'rb') as handle:\n",
    "    issues = pickle.load(handle)"
   ]
  },
  {
   "cell_type": "code",
   "execution_count": null,
   "metadata": {},
   "outputs": [],
   "source": [
    "reduced_issues = {}\n",
    "\n",
    "for i in tqdm(issues.items()):\n",
    "    key = i[0]\n",
    "    value = i[1]\n",
    "\n",
    "    c_issue = clear_key_pattern(value, \"url\")\n",
    "    c_issue = clear_key_pattern(c_issue, \"node_id\")\n",
    "    c_issue = clear_key_pattern(c_issue, \"body\")\n",
    "    reduced_issues[key] = c_issue"
   ]
  },
  {
   "cell_type": "code",
   "execution_count": null,
   "metadata": {},
   "outputs": [],
   "source": [
    "with open(\"../resources/issues_list_reduced.json\", \"w\") as handle:\n",
    "    json.dump(list(reduced_issues.values()), handle)"
   ]
  },
  {
   "cell_type": "code",
   "execution_count": null,
   "metadata": {},
   "outputs": [],
   "source": [
    "labels = extract_list_items(reduced_issues,'labels')"
   ]
  },
  {
   "cell_type": "code",
   "execution_count": null,
   "metadata": {},
   "outputs": [],
   "source": [
    "with open(\"../resources/issues_labels.json\", \"w\") as handle:\n",
    "    json.dump(labels, handle)"
   ]
  },
  {
   "cell_type": "code",
   "execution_count": null,
   "metadata": {},
   "outputs": [],
   "source": [
    "assignees = extract_list_items(reduced_issues,'assignees')"
   ]
  },
  {
   "cell_type": "code",
   "execution_count": null,
   "metadata": {},
   "outputs": [],
   "source": [
    "with open(\"../resources/issues_assignees.json\", \"w\") as handle:\n",
    "    json.dump(assignees, handle)"
   ]
  },
  {
   "cell_type": "code",
   "execution_count": null,
   "metadata": {},
   "outputs": [],
   "source": [
    "curated_issues = {}\n",
    "\n",
    "for i in tqdm(reduced_issues.copy().items()):\n",
    "    key = i[0]\n",
    "    value = i[1]\n",
    "\n",
    "    value['user'] = extract_element_w_key(value, 'user', 'login')\n",
    "    value['closed_by'] = extract_element_w_key(value, 'closed_by', 'login')\n",
    "    value['assignee'] = extract_element_w_key(value, 'assignee', 'login')\n",
    "    value['milestone'] = extract_element_w_key(value, 'milestone', 'title')\n",
    "    if 'labels' in value:\n",
    "        del value['labels']\n",
    "    if 'assignees' in value:\n",
    "        del value['assignees']\n",
    "    if 'pull_request' in value:\n",
    "        del value['pull_request']        \n",
    "    curated_issues[key] = value\n",
    "    "
   ]
  },
  {
   "cell_type": "code",
   "execution_count": null,
   "metadata": {},
   "outputs": [],
   "source": [
    "with open(\"../resources/issues_curated.json\", \"w\") as handle:\n",
    "    json.dump(list(curated_issues.values()), handle)"
   ]
  },
  {
   "cell_type": "markdown",
   "metadata": {},
   "source": [
    "<h3 style=\"color:red;\">Clear memory</h3>"
   ]
  },
  {
   "cell_type": "code",
   "execution_count": null,
   "metadata": {},
   "outputs": [],
   "source": [
    "del curated_issues\n",
    "del reduced_issues\n",
    "del issues"
   ]
  },
  {
   "cell_type": "markdown",
   "metadata": {},
   "source": [
    "# Reduce Pull Requests Data"
   ]
  },
  {
   "cell_type": "code",
   "execution_count": null,
   "metadata": {},
   "outputs": [],
   "source": [
    "with open('../resources/pull_requests.pickle', 'rb') as handle:\n",
    "    pull_requests = pickle.load(handle)"
   ]
  },
  {
   "cell_type": "code",
   "execution_count": null,
   "metadata": {},
   "outputs": [],
   "source": [
    "reduced_pulls = {}\n",
    "\n",
    "for i in tqdm(pull_requests.items()):\n",
    "    key = i[0]\n",
    "    value = i[1]\n",
    "\n",
    "    c = clear_key_pattern(value, \"url\")\n",
    "    c = clear_key_pattern(c, \"node_id\")\n",
    "    c = clear_key_pattern(c, \"body\")\n",
    "    reduced_pulls[key] = c"
   ]
  },
  {
   "cell_type": "code",
   "execution_count": null,
   "metadata": {},
   "outputs": [],
   "source": [
    "pull_requests_labels = extract_list_items(reduced_pulls,'labels')\n",
    "pull_requests_assignees = extract_list_items(reduced_pulls,'assignees')\n",
    "pull_requests_requested_reviewers = extract_list_items(reduced_pulls,'requested_reviewers')\n",
    "#pull_requests_requested_head = extract_list_items(reduced_pulls,'head')\n",
    "#pull_requests_base = extract_list_items(reduced_pulls,'base')"
   ]
  },
  {
   "cell_type": "code",
   "execution_count": null,
   "metadata": {},
   "outputs": [],
   "source": [
    "curated_pull_requets = {}\n",
    "\n",
    "for i in tqdm(reduced_pulls.copy().items()):\n",
    "    key = i[0]\n",
    "    value = i[1]\n",
    "\n",
    "    value['user'] = extract_element_w_key(value, 'user', 'login')\n",
    "    value['assignee'] = extract_element_w_key(value, 'assignee', 'login')\n",
    "    value['milestone'] = extract_element_w_key(value, 'milestone', 'title')\n",
    "    if 'labels' in value:\n",
    "        del value['labels']\n",
    "    if 'assignees' in value:\n",
    "        del value['assignees']\n",
    "    if 'requested_reviewers' in value:\n",
    "        del value['requested_reviewers']        \n",
    "    #if 'head' in value:\n",
    "    #    del value['head']\n",
    "    #if 'base' in value:\n",
    "    #    del value['base']\n",
    "    curated_pull_requets[key] = value"
   ]
  },
  {
   "cell_type": "code",
   "execution_count": null,
   "metadata": {},
   "outputs": [],
   "source": [
    "with open(\"../resources/curated_pull_requets.json\", \"w\") as handle:\n",
    "    json.dump(list(curated_pull_requets.values()), handle)"
   ]
  },
  {
   "cell_type": "markdown",
   "metadata": {},
   "source": [
    "<h3 style=\"color:red;\">Clear memory</h3>"
   ]
  },
  {
   "cell_type": "code",
   "execution_count": null,
   "metadata": {},
   "outputs": [],
   "source": [
    "del pull_requests\n",
    "del reduced_pulls\n",
    "del curated_pull_requets"
   ]
  },
  {
   "cell_type": "markdown",
   "metadata": {},
   "source": [
    "# Reduce Releases Info"
   ]
  },
  {
   "cell_type": "code",
   "execution_count": null,
   "metadata": {},
   "outputs": [],
   "source": [
    "with open('../resources/releases.pickle', 'rb') as handle:\n",
    "    releases = pickle.load(handle)"
   ]
  },
  {
   "cell_type": "code",
   "execution_count": null,
   "metadata": {},
   "outputs": [],
   "source": [
    "reduced_releases = {}\n",
    "\n",
    "for i in tqdm(releases.items()):\n",
    "    key = i[0]\n",
    "    value = i[1]\n",
    "\n",
    "    c = clear_key_pattern(value, \"url\")\n",
    "    c = clear_key_pattern(c, \"node_id\")\n",
    "    c = clear_key_pattern(c, \"body\")\n",
    "    reduced_releases[key] = c"
   ]
  },
  {
   "cell_type": "code",
   "execution_count": null,
   "metadata": {},
   "outputs": [],
   "source": [
    "assets = extract_list_items(reduced_releases,'assets')"
   ]
  },
  {
   "cell_type": "code",
   "execution_count": null,
   "metadata": {},
   "outputs": [],
   "source": [
    "curated_releases = {}\n",
    "\n",
    "for i in tqdm(reduced_releases.copy().items()):\n",
    "    key = i[0]\n",
    "    value = i[1]\n",
    "\n",
    "    value['author'] = extract_element_w_key(value, 'author', 'login')\n",
    "    #value['assignee'] = extract_element_w_key(value, 'assignee', 'login')\n",
    "    #value['milestone'] = extract_element_w_key(value, 'milestone', 'title')\n",
    "    if 'assets' in value:\n",
    "        del value['assets']\n",
    "\n",
    "    curated_releases[key] = value"
   ]
  },
  {
   "cell_type": "code",
   "execution_count": null,
   "metadata": {},
   "outputs": [],
   "source": [
    "with open(\"../resources/curated_releases.json\", \"w\") as handle:\n",
    "    json.dump(list(curated_releases.values()), handle)"
   ]
  },
  {
   "cell_type": "markdown",
   "metadata": {},
   "source": [
    "<h3 style=\"color:red;\">Clear memory</h3>"
   ]
  },
  {
   "cell_type": "code",
   "execution_count": null,
   "metadata": {},
   "outputs": [],
   "source": [
    "del releases\n",
    "del reduced_releases\n",
    "del curated_releases"
   ]
  },
  {
   "cell_type": "markdown",
   "metadata": {},
   "source": [
    "# Reduce Commits Info"
   ]
  },
  {
   "cell_type": "code",
   "execution_count": null,
   "metadata": {},
   "outputs": [],
   "source": [
    "with open('../resources/commits.pickle', 'rb') as handle:\n",
    "    commits = pickle.load(handle)"
   ]
  },
  {
   "cell_type": "code",
   "execution_count": null,
   "metadata": {},
   "outputs": [],
   "source": [
    "reduced_commits = {}\n",
    "\n",
    "for i in tqdm(commits.items()):\n",
    "    key = i[0]\n",
    "    value = i[1].copy()\n",
    "\n",
    "    c = clear_key_pattern(value, \"url\")\n",
    "    c = clear_key_pattern(c, \"node_id\")\n",
    "    c = clear_key_pattern(c, \"body\")\n",
    "    \n",
    "    reduced_commits[key] = c\n",
    "    "
   ]
  },
  {
   "cell_type": "code",
   "execution_count": null,
   "metadata": {},
   "outputs": [],
   "source": [
    "#commits_parents = extract_list_items(reduced_commits,'parents')\n",
    "#commits_files = extract_list_items(reduced_commits,'files')\n",
    "\n",
    "commits_parents = []\n",
    "\n",
    "for i in tqdm(commits.items()):\n",
    "    key = i[0]\n",
    "    value = i[1].copy()\n",
    "    \n",
    "    for c_value in value['parents']:\n",
    "        commits_parents += [{ \"parent_sha\":key, \"sha\":c_value['sha']}]\n"
   ]
  },
  {
   "cell_type": "code",
   "execution_count": null,
   "metadata": {},
   "outputs": [],
   "source": [
    "commits_files = []\n",
    "\n",
    "for i in tqdm(commits.items()):\n",
    "    key = i[0]\n",
    "    value = i[1].copy()\n",
    "    \n",
    "    for c_value in value['files']:\n",
    "        commits_files += [\n",
    "                            {\n",
    "                                \"commit\":key,\n",
    "                                \"key\":c_value['sha'],\n",
    "                                \"filename\":c_value['filename'],\n",
    "                                \"status\":c_value['status'],\n",
    "                                \"changes\":c_value['changes'],\n",
    "                                \"additions\":c_value['additions'],\n",
    "                                \"deletions\":c_value['deletions']\n",
    "                            }\n",
    "                         ]"
   ]
  },
  {
   "cell_type": "code",
   "execution_count": null,
   "metadata": {},
   "outputs": [],
   "source": [
    "curated_commits = {}\n",
    "\n",
    "for i in tqdm(reduced_commits.copy().items()):\n",
    "    key = i[0]\n",
    "    value = i[1].copy()\n",
    "    proxy = Cut(value)\n",
    "\n",
    "    value['author'] = proxy['commit.author.name']\n",
    "    value['date'] = proxy['commit.author.date']\n",
    "    value['message'] = proxy['commit.message']\n",
    "    value['committer'] = proxy['commit.committer.name']\n",
    "    value['login'] = proxy['commit.committer.name']\n",
    "    value['stats_total'] = proxy['stats.total']\n",
    "    value['stats_additions'] = proxy['stats.additions']\n",
    "    value['stats_deletions'] = proxy['stats.deletions']\n",
    "    #value['assignee'] = extract_element_w_key(value, 'assignee', 'login')\n",
    "    #value['milestone'] = extract_element_w_key(value, 'milestone', 'title')\n",
    "        \n",
    "    if 'commit.author.login' in proxy:\n",
    "        value['author_login'] = proxy['commit.author.login']\n",
    "    else:\n",
    "        value['author_login'] = proxy['commit.author.email']\n",
    "        \n",
    "    if 'commit.committer.login' in proxy:\n",
    "        value['commiter_login'] = proxy['commit.committer.login']\n",
    "    else:\n",
    "        value['commiter_login'] = proxy['commit.committer.email']        \n",
    "\n",
    "    if 'parents' in value:\n",
    "        del value['parents']\n",
    "    if 'commit' in value:\n",
    "        del value['commit']\n",
    "    if 'files' in value:\n",
    "        del value['files']\n",
    "    if 'stats' in value:\n",
    "        del value['stats'] \n",
    "        \n",
    "    curated_commits[key] = value"
   ]
  },
  {
   "cell_type": "code",
   "execution_count": null,
   "metadata": {},
   "outputs": [],
   "source": [
    "with open(\"../resources/curated_commits.json\", \"w\") as handle:\n",
    "    json.dump(list(curated_commits.values()), handle)"
   ]
  },
  {
   "cell_type": "code",
   "execution_count": null,
   "metadata": {},
   "outputs": [],
   "source": [
    "with open(\"../resources/commits_parents.json\", \"w\") as handle:\n",
    "    json.dump(commits_parents, handle)"
   ]
  },
  {
   "cell_type": "code",
   "execution_count": null,
   "metadata": {},
   "outputs": [],
   "source": [
    "with open(\"../resources/curated_files.json\", \"w\") as handle:\n",
    "    json.dump(commits_files, handle)"
   ]
  },
  {
   "cell_type": "markdown",
   "metadata": {},
   "source": [
    "<h3 style=\"color:red;\">Clear memory</h3>"
   ]
  },
  {
   "cell_type": "code",
   "execution_count": null,
   "metadata": {},
   "outputs": [],
   "source": [
    "del commits\n",
    "del reduced_commits\n",
    "del curated_commits\n",
    "del commits_parents\n",
    "del commits_files"
   ]
  },
  {
   "cell_type": "code",
   "execution_count": null,
   "metadata": {},
   "outputs": [],
   "source": []
  }
 ],
 "metadata": {
  "kernelspec": {
   "display_name": "Python 3",
   "language": "python",
   "name": "python3"
  },
  "language_info": {
   "codemirror_mode": {
    "name": "ipython",
    "version": 3
   },
   "file_extension": ".py",
   "mimetype": "text/x-python",
   "name": "python",
   "nbconvert_exporter": "python",
   "pygments_lexer": "ipython3",
   "version": "3.7.3"
  }
 },
 "nbformat": 4,
 "nbformat_minor": 2
}
