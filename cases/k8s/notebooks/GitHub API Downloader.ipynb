{
 "cells": [
  {
   "cell_type": "code",
   "execution_count": null,
   "metadata": {},
   "outputs": [],
   "source": [
    "!pip install --upgrade PyGithub tqdm arrow python-dotenv"
   ]
  },
  {
   "cell_type": "code",
   "execution_count": 1,
   "metadata": {},
   "outputs": [],
   "source": [
    "from github import Github, RateLimitExceededException\n",
    "import pandas as pd\n",
    "import json\n",
    "from tqdm.notebook import trange, tqdm\n",
    "import arrow\n",
    "from time import sleep\n",
    "import pickle\n",
    "from dotenv import load_dotenv\n",
    "import os\n",
    "\n",
    "load_dotenv()\n",
    "GITHUB_KEY = os.getenv(\"GITHUB_KEY\")"
   ]
  },
  {
   "cell_type": "code",
   "execution_count": 2,
   "metadata": {},
   "outputs": [],
   "source": [
    "g = Github(GITHUB_KEY)"
   ]
  },
  {
   "cell_type": "code",
   "execution_count": 3,
   "metadata": {},
   "outputs": [],
   "source": [
    "#arrow.get(g.rate_limiting_resettime)"
   ]
  },
  {
   "cell_type": "code",
   "execution_count": 4,
   "metadata": {},
   "outputs": [
    {
     "data": {
      "text/plain": [
       "(5000, 5000)"
      ]
     },
     "execution_count": 4,
     "metadata": {},
     "output_type": "execute_result"
    }
   ],
   "source": [
    "g.rate_limiting"
   ]
  },
  {
   "cell_type": "code",
   "execution_count": 5,
   "metadata": {},
   "outputs": [],
   "source": [
    "repo = g.get_repo(\"kubernetes/kubernetes\")"
   ]
  },
  {
   "cell_type": "code",
   "execution_count": null,
   "metadata": {},
   "outputs": [],
   "source": [
    "github_issues = repo.get_issues(state='all')\n",
    "total_issues = github_issues.totalCount\n",
    "issues = {}"
   ]
  },
  {
   "cell_type": "markdown",
   "metadata": {},
   "source": [
    "# Downloading Issues"
   ]
  },
  {
   "cell_type": "code",
   "execution_count": null,
   "metadata": {},
   "outputs": [],
   "source": [
    "for i_issue in trange(total_issues, desc='GitHub'):\n",
    "    n_issue = github_issues[i_issue].number\n",
    "    if n_issue not in issues:\n",
    "        issues[n_issue] = github_issues[i_issue].raw_data\n",
    "        sleep(1)"
   ]
  },
  {
   "cell_type": "code",
   "execution_count": null,
   "metadata": {},
   "outputs": [],
   "source": [
    "with open('issues.pickle', 'wb') as handle:\n",
    "    pickle.dump(issues, handle, protocol=pickle.HIGHEST_PROTOCOL)"
   ]
  },
  {
   "cell_type": "code",
   "execution_count": null,
   "metadata": {},
   "outputs": [],
   "source": [
    "\n",
    "with open(\"issues_list.json\", \"w\") as handle:\n",
    "    json.dump(list(issues.values()), handle)"
   ]
  },
  {
   "cell_type": "code",
   "execution_count": null,
   "metadata": {},
   "outputs": [],
   "source": [
    "\n",
    "with open(\"issues.json\", \"w\") as handle:\n",
    "    json.dump(issues, handle)"
   ]
  },
  {
   "cell_type": "markdown",
   "metadata": {},
   "source": [
    "# Downloading Pull Requets"
   ]
  },
  {
   "cell_type": "code",
   "execution_count": null,
   "metadata": {},
   "outputs": [],
   "source": [
    "github_pulls = repo.get_pulls(state='all',sort='updated',direction=\"desc\")\n",
    "total_pulls = github_pulls.totalCount\n",
    "pulls = {}\n",
    "print(total_pulls)"
   ]
  },
  {
   "cell_type": "code",
   "execution_count": null,
   "metadata": {},
   "outputs": [],
   "source": [
    "for i_pull in trange(total_pulls, desc='GitHub Pull Requests'):\n",
    "    n_pull = github_pulls[i_pull].number\n",
    "    if n_pull not in pulls:\n",
    "        pulls[n_pull] = github_pulls[i_pull].raw_data\n",
    "        sleep(1)"
   ]
  },
  {
   "cell_type": "code",
   "execution_count": null,
   "metadata": {},
   "outputs": [],
   "source": [
    "with open('pull_requests.pickle', 'wb') as handle:\n",
    "    pickle.dump(pulls, handle, protocol=pickle.HIGHEST_PROTOCOL)"
   ]
  },
  {
   "cell_type": "markdown",
   "metadata": {},
   "source": [
    "# Downloading Commits"
   ]
  },
  {
   "cell_type": "code",
   "execution_count": 54,
   "metadata": {},
   "outputs": [
    {
     "name": "stdout",
     "output_type": "stream",
     "text": [
      "85866\n"
     ]
    }
   ],
   "source": [
    "github_commits = repo.get_commits()\n",
    "total_commits = github_commits.totalCount\n",
    "print(total_commits)"
   ]
  },
  {
   "cell_type": "markdown",
   "metadata": {},
   "source": [
    "## Load commits"
   ]
  },
  {
   "cell_type": "code",
   "execution_count": 41,
   "metadata": {},
   "outputs": [],
   "source": [
    "try:\n",
    "    with open('../resources/commits.pickle', 'rb') as handle:\n",
    "        commits = pickle.load(handle)\n",
    "        print(f\"Loaded {len(commits.values())} commits from pickle\")\n",
    "except:\n",
    "    print(\"Fail in load commits pickle, commit will be empty\")\n",
    "    commits = {}"
   ]
  },
  {
   "cell_type": "markdown",
   "metadata": {},
   "source": [
    "## Getting from Github commits and adding to commits dict"
   ]
  },
  {
   "cell_type": "code",
   "execution_count": 66,
   "metadata": {},
   "outputs": [
    {
     "data": {
      "application/vnd.jupyter.widget-view+json": {
       "model_id": "b1a09147a04649ea94173907897046d0",
       "version_major": 2,
       "version_minor": 0
      },
      "text/plain": [
       "HBox(children=(IntProgress(value=0, description='GitHub Page Commits', max=2, style=ProgressStyle(description_…"
      ]
     },
     "metadata": {},
     "output_type": "display_data"
    },
    {
     "name": "stdout",
     "output_type": "stream",
     "text": [
      "\n"
     ]
    }
   ],
   "source": [
    "#commit_test = github_commits.get_page(2500)[0]\n",
    "#commit_pages = {}\n",
    "for i in trange(int(total_commits/30)+1, desc='GitHub Page Commits'):\n",
    "    if i not in commit_pages:\n",
    "        #commit_pages[i] = github_commits.get_page(i)\n",
    "        for c_commit in github_commits.get_page(i):\n",
    "            sha_commit = c_commit.sha\n",
    "            if sha_commit not in commits:\n",
    "                commits[sha_commit] = c_commit.raw_data\n",
    "                sleep(1)\n",
    "            else:\n",
    "                break\n",
    "\n",
    "        "
   ]
  },
  {
   "cell_type": "code",
   "execution_count": 68,
   "metadata": {},
   "outputs": [
    {
     "name": "stdout",
     "output_type": "stream",
     "text": [
      "Now there are 85813 commits on pickle\n"
     ]
    }
   ],
   "source": [
    "print(f\"Now there are {len(commits.values())} commits on pickle\")"
   ]
  },
  {
   "cell_type": "markdown",
   "metadata": {},
   "source": [
    "## Saving pickle for post-processing"
   ]
  },
  {
   "cell_type": "code",
   "execution_count": 69,
   "metadata": {},
   "outputs": [],
   "source": [
    "with open('../resources/commits.pickle', 'wb') as handle:\n",
    "    pickle.dump(commits, handle, protocol=pickle.HIGHEST_PROTOCOL)"
   ]
  },
  {
   "cell_type": "code",
   "execution_count": null,
   "metadata": {},
   "outputs": [],
   "source": []
  },
  {
   "cell_type": "markdown",
   "metadata": {},
   "source": [
    "# Releases"
   ]
  },
  {
   "cell_type": "code",
   "execution_count": 71,
   "metadata": {},
   "outputs": [
    {
     "name": "stdout",
     "output_type": "stream",
     "text": [
      "353\n"
     ]
    }
   ],
   "source": [
    "github_releases = repo.get_releases()\n",
    "total_releases = github_releases.totalCount\n",
    "print(total_releases)"
   ]
  },
  {
   "cell_type": "code",
   "execution_count": null,
   "metadata": {},
   "outputs": [],
   "source": [
    "github_releases.get_page(0)\n"
   ]
  },
  {
   "cell_type": "code",
   "execution_count": null,
   "metadata": {},
   "outputs": [],
   "source": [
    "print(\"hola\")"
   ]
  },
  {
   "cell_type": "code",
   "execution_count": null,
   "metadata": {},
   "outputs": [],
   "source": []
  },
  {
   "cell_type": "markdown",
   "metadata": {},
   "source": [
    "## Saving pickle for post-processing"
   ]
  },
  {
   "cell_type": "code",
   "execution_count": 42,
   "metadata": {},
   "outputs": [
    {
     "data": {
      "application/vnd.jupyter.widget-view+json": {
       "model_id": "b4b265c99ddf4530bcc2427976d67950",
       "version_major": 2,
       "version_minor": 0
      },
      "text/plain": [
       "HBox(children=(IntProgress(value=0, description='GitHub Page Commits', max=2850, style=ProgressStyle(descripti…"
      ]
     },
     "metadata": {},
     "output_type": "display_data"
    },
    {
     "name": "stdout",
     "output_type": "stream",
     "text": [
      "\n"
     ]
    }
   ],
   "source": [
    "for c_commit_page in tqdm(commit_pages.values(), desc='GitHub Page Commits'):\n",
    "    for c_commit in c_commit_page:\n",
    "        sha_commit = c_commit.sha\n",
    "        if sha_commit not in commits:\n",
    "            commits[sha_commit] = c_commit.raw_data\n",
    "            sleep(1)\n",
    "\n"
   ]
  },
  {
   "cell_type": "code",
   "execution_count": 8,
   "metadata": {},
   "outputs": [],
   "source": [
    "commits = {}"
   ]
  },
  {
   "cell_type": "code",
   "execution_count": 37,
   "metadata": {},
   "outputs": [],
   "source": [
    "with open('commits_pages.pickle', 'wb') as handle:\n",
    "    pickle.dump(commit_pages, handle, protocol=pickle.HIGHEST_PROTOCOL)"
   ]
  },
  {
   "cell_type": "code",
   "execution_count": null,
   "metadata": {},
   "outputs": [],
   "source": [
    "for i_commits in trange(total_commits, desc='GitHub Commits'):\n",
    "    try:    \n",
    "        sha_commit = github_pulls[i_commits].sha\n",
    "        if sha_commit not in commits:\n",
    "            commits[sha_commit] = github_commits[i_commits].raw_data\n",
    "            sleep(1)            \n",
    "    except:\n",
    "        print(f\"Commit Not Found:{i_commits}\")\n"
   ]
  },
  {
   "cell_type": "code",
   "execution_count": 27,
   "metadata": {
    "scrolled": false
   },
   "outputs": [
    {
     "data": {
      "text/plain": [
       "{'sha': '402e551ca27499a9dc211dd6e4eca21d9aa9d089',\n",
       " 'node_id': 'MDY6Q29tbWl0MjA1ODA0OTg6NDAyZTU1MWNhMjc0OTlhOWRjMjExZGQ2ZTRlY2EyMWQ5YWE5ZDA4OQ==',\n",
       " 'commit': {'author': {'name': 'Kubernetes Prow Robot',\n",
       "   'email': 'k8s-ci-robot@users.noreply.github.com',\n",
       "   'date': '2019-11-12T17:07:01Z'},\n",
       "  'committer': {'name': 'GitHub',\n",
       "   'email': 'noreply@github.com',\n",
       "   'date': '2019-11-12T17:07:01Z'},\n",
       "  'message': 'Merge pull request #85135 from wojtek-t/delete_unnecessary_conversions_1\\n\\nEliminate couple unnecessary conversions',\n",
       "  'tree': {'sha': '5e7b9d4e0d13ba6b8a2996532e08445e64b650d5',\n",
       "   'url': 'https://api.github.com/repos/kubernetes/kubernetes/git/trees/5e7b9d4e0d13ba6b8a2996532e08445e64b650d5'},\n",
       "  'url': 'https://api.github.com/repos/kubernetes/kubernetes/git/commits/402e551ca27499a9dc211dd6e4eca21d9aa9d089',\n",
       "  'comment_count': 0,\n",
       "  'verification': {'verified': True,\n",
       "   'reason': 'valid',\n",
       "   'signature': '-----BEGIN PGP SIGNATURE-----\\n\\nwsBcBAABCAAQBQJdyua1CRBK7hj4Ov3rIwAAdHIIAJO3XuJcRkL/RymaBVrIH062\\nGayudNLM0S8RASQIih2vG8ppGc6lfR3qciIFyjEdG6A+eD9A1Wk3+rn2hUUDEHbS\\n+4TxipWLG4OeUMJkYYV3j1HfDtQFTQngbb65POpYjPqpW/eA/AIiJmke/qObPnTk\\nWDYu86GEBwXLBY3eAa7t2cgIzx8BWaaWbcCawkxd4zY0Hq7JZXyjUTccDRLtaVpr\\nxOkhn6wcuXw0/qG1rwuOmtzzF7KzECocg0P3iKgolB2GudONZM+MZ9dYNz/uZNqh\\n8bV9jQP6mlJZkwwi51pR42Wvka5Vlky9SgNADd9lme5yhqneREJBglIMwrbTrlA=\\n=oYzD\\n-----END PGP SIGNATURE-----\\n',\n",
       "   'payload': 'tree 5e7b9d4e0d13ba6b8a2996532e08445e64b650d5\\nparent 760af28f69a7cf7090abeca59e1e0703d161ace8\\nparent 067d173266303c5c9a4281e962d3662c34a78053\\nauthor Kubernetes Prow Robot <k8s-ci-robot@users.noreply.github.com> 1573578421 -0800\\ncommitter GitHub <noreply@github.com> 1573578421 -0800\\n\\nMerge pull request #85135 from wojtek-t/delete_unnecessary_conversions_1\\n\\nEliminate couple unnecessary conversions'}},\n",
       " 'url': 'https://api.github.com/repos/kubernetes/kubernetes/commits/402e551ca27499a9dc211dd6e4eca21d9aa9d089',\n",
       " 'html_url': 'https://github.com/kubernetes/kubernetes/commit/402e551ca27499a9dc211dd6e4eca21d9aa9d089',\n",
       " 'comments_url': 'https://api.github.com/repos/kubernetes/kubernetes/commits/402e551ca27499a9dc211dd6e4eca21d9aa9d089/comments',\n",
       " 'author': {'login': 'k8s-ci-robot',\n",
       "  'id': 20407524,\n",
       "  'node_id': 'MDQ6VXNlcjIwNDA3NTI0',\n",
       "  'avatar_url': 'https://avatars0.githubusercontent.com/u/20407524?v=4',\n",
       "  'gravatar_id': '',\n",
       "  'url': 'https://api.github.com/users/k8s-ci-robot',\n",
       "  'html_url': 'https://github.com/k8s-ci-robot',\n",
       "  'followers_url': 'https://api.github.com/users/k8s-ci-robot/followers',\n",
       "  'following_url': 'https://api.github.com/users/k8s-ci-robot/following{/other_user}',\n",
       "  'gists_url': 'https://api.github.com/users/k8s-ci-robot/gists{/gist_id}',\n",
       "  'starred_url': 'https://api.github.com/users/k8s-ci-robot/starred{/owner}{/repo}',\n",
       "  'subscriptions_url': 'https://api.github.com/users/k8s-ci-robot/subscriptions',\n",
       "  'organizations_url': 'https://api.github.com/users/k8s-ci-robot/orgs',\n",
       "  'repos_url': 'https://api.github.com/users/k8s-ci-robot/repos',\n",
       "  'events_url': 'https://api.github.com/users/k8s-ci-robot/events{/privacy}',\n",
       "  'received_events_url': 'https://api.github.com/users/k8s-ci-robot/received_events',\n",
       "  'type': 'User',\n",
       "  'site_admin': False},\n",
       " 'committer': {'login': 'web-flow',\n",
       "  'id': 19864447,\n",
       "  'node_id': 'MDQ6VXNlcjE5ODY0NDQ3',\n",
       "  'avatar_url': 'https://avatars3.githubusercontent.com/u/19864447?v=4',\n",
       "  'gravatar_id': '',\n",
       "  'url': 'https://api.github.com/users/web-flow',\n",
       "  'html_url': 'https://github.com/web-flow',\n",
       "  'followers_url': 'https://api.github.com/users/web-flow/followers',\n",
       "  'following_url': 'https://api.github.com/users/web-flow/following{/other_user}',\n",
       "  'gists_url': 'https://api.github.com/users/web-flow/gists{/gist_id}',\n",
       "  'starred_url': 'https://api.github.com/users/web-flow/starred{/owner}{/repo}',\n",
       "  'subscriptions_url': 'https://api.github.com/users/web-flow/subscriptions',\n",
       "  'organizations_url': 'https://api.github.com/users/web-flow/orgs',\n",
       "  'repos_url': 'https://api.github.com/users/web-flow/repos',\n",
       "  'events_url': 'https://api.github.com/users/web-flow/events{/privacy}',\n",
       "  'received_events_url': 'https://api.github.com/users/web-flow/received_events',\n",
       "  'type': 'User',\n",
       "  'site_admin': False},\n",
       " 'parents': [{'sha': '760af28f69a7cf7090abeca59e1e0703d161ace8',\n",
       "   'url': 'https://api.github.com/repos/kubernetes/kubernetes/commits/760af28f69a7cf7090abeca59e1e0703d161ace8',\n",
       "   'html_url': 'https://github.com/kubernetes/kubernetes/commit/760af28f69a7cf7090abeca59e1e0703d161ace8'},\n",
       "  {'sha': '067d173266303c5c9a4281e962d3662c34a78053',\n",
       "   'url': 'https://api.github.com/repos/kubernetes/kubernetes/commits/067d173266303c5c9a4281e962d3662c34a78053',\n",
       "   'html_url': 'https://github.com/kubernetes/kubernetes/commit/067d173266303c5c9a4281e962d3662c34a78053'}],\n",
       " 'stats': {'total': 62, 'additions': 22, 'deletions': 40},\n",
       " 'files': [{'sha': 'aee9c2c89941b540ba42406a195ef10f71ccbe51',\n",
       "   'filename': 'pkg/apis/core/v1/conversion_test.go',\n",
       "   'status': 'modified',\n",
       "   'additions': 1,\n",
       "   'deletions': 7,\n",
       "   'changes': 8,\n",
       "   'blob_url': 'https://github.com/kubernetes/kubernetes/blob/402e551ca27499a9dc211dd6e4eca21d9aa9d089/pkg/apis/core/v1/conversion_test.go',\n",
       "   'raw_url': 'https://github.com/kubernetes/kubernetes/raw/402e551ca27499a9dc211dd6e4eca21d9aa9d089/pkg/apis/core/v1/conversion_test.go',\n",
       "   'contents_url': 'https://api.github.com/repos/kubernetes/kubernetes/contents/pkg/apis/core/v1/conversion_test.go?ref=402e551ca27499a9dc211dd6e4eca21d9aa9d089',\n",
       "   'patch': '@@ -338,13 +338,7 @@ func roundTripRS(t *testing.T, rs *apps.ReplicaSet) *apps.ReplicaSet {\\n \\t\\tt.Errorf(\"%v\\\\nData: %s\\\\nSource: %#v\", err, string(data), rs)\\n \\t\\treturn nil\\n \\t}\\n-\\tobj3 := &apps.ReplicaSet{}\\n-\\terr = legacyscheme.Scheme.Convert(obj2, obj3, nil)\\n-\\tif err != nil {\\n-\\t\\tt.Errorf(\"%v\\\\nSource: %#v\", err, obj2)\\n-\\t\\treturn nil\\n-\\t}\\n-\\treturn obj3\\n+\\treturn obj2.(*apps.ReplicaSet)\\n }\\n \\n func Test_core_PodStatus_to_v1_PodStatus(t *testing.T) {'},\n",
       "  {'sha': '773718b85acaa381c2fa708d38636755ebe1c7dd',\n",
       "   'filename': 'pkg/kubelet/config/file_linux_test.go',\n",
       "   'status': 'modified',\n",
       "   'additions': 1,\n",
       "   'deletions': 7,\n",
       "   'changes': 8,\n",
       "   'blob_url': 'https://github.com/kubernetes/kubernetes/blob/402e551ca27499a9dc211dd6e4eca21d9aa9d089/pkg/kubelet/config/file_linux_test.go',\n",
       "   'raw_url': 'https://github.com/kubernetes/kubernetes/raw/402e551ca27499a9dc211dd6e4eca21d9aa9d089/pkg/kubelet/config/file_linux_test.go',\n",
       "   'contents_url': 'https://api.github.com/repos/kubernetes/kubernetes/contents/pkg/kubelet/config/file_linux_test.go?ref=402e551ca27499a9dc211dd6e4eca21d9aa9d089',\n",
       "   'patch': '@@ -33,7 +33,6 @@ import (\\n \\t\"k8s.io/apimachinery/pkg/runtime\"\\n \\t\"k8s.io/apimachinery/pkg/types\"\\n \\t\"k8s.io/apimachinery/pkg/util/wait\"\\n-\\t\"k8s.io/kubernetes/pkg/api/legacyscheme\"\\n \\t\"k8s.io/kubernetes/pkg/api/testapi\"\\n \\tapi \"k8s.io/kubernetes/pkg/apis/core\"\\n \\tk8s_api_v1 \"k8s.io/kubernetes/pkg/apis/core/v1\"\\n@@ -200,12 +199,7 @@ func getTestCases(hostname types.NodeName) []*testCase {\\n }\\n \\n func (tc *testCase) writeToFile(dir, name string, t *testing.T) string {\\n-\\tvar versionedPod runtime.Object\\n-\\terr := legacyscheme.Scheme.Convert(&tc.pod, &versionedPod, nil)\\n-\\tif err != nil {\\n-\\t\\tt.Fatalf(\"%s: error in versioning the pod: %v\", tc.desc, err)\\n-\\t}\\n-\\tfileContents, err := runtime.Encode(testapi.Default.Codec(), versionedPod)\\n+\\tfileContents, err := runtime.Encode(testapi.Default.Codec(), tc.pod)\\n \\tif err != nil {\\n \\t\\tt.Fatalf(\"%s: error in encoding the pod: %v\", tc.desc, err)\\n \\t}'},\n",
       "  {'sha': '5b75b5d850de8be2953f323e93fa317c9d353ca7',\n",
       "   'filename': 'pkg/kubelet/config/http_test.go',\n",
       "   'status': 'modified',\n",
       "   'additions': 1,\n",
       "   'deletions': 7,\n",
       "   'changes': 8,\n",
       "   'blob_url': 'https://github.com/kubernetes/kubernetes/blob/402e551ca27499a9dc211dd6e4eca21d9aa9d089/pkg/kubelet/config/http_test.go',\n",
       "   'raw_url': 'https://github.com/kubernetes/kubernetes/raw/402e551ca27499a9dc211dd6e4eca21d9aa9d089/pkg/kubelet/config/http_test.go',\n",
       "   'contents_url': 'https://api.github.com/repos/kubernetes/kubernetes/contents/pkg/kubelet/config/http_test.go?ref=402e551ca27499a9dc211dd6e4eca21d9aa9d089',\n",
       "   'patch': '@@ -29,7 +29,6 @@ import (\\n \\t\"k8s.io/apimachinery/pkg/runtime\"\\n \\t\"k8s.io/apimachinery/pkg/types\"\\n \\tutiltesting \"k8s.io/client-go/util/testing\"\\n-\\t\"k8s.io/kubernetes/pkg/api/legacyscheme\"\\n \\t\"k8s.io/kubernetes/pkg/api/testapi\"\\n \\tapi \"k8s.io/kubernetes/pkg/apis/core\"\\n \\tk8s_api_v1 \"k8s.io/kubernetes/pkg/apis/core/v1\"\\n@@ -293,12 +292,7 @@ func TestExtractPodsFromHTTP(t *testing.T) {\\n \\t}\\n \\n \\tfor _, testCase := range testCases {\\n-\\t\\tvar versionedPods runtime.Object\\n-\\t\\terr := legacyscheme.Scheme.Convert(&testCase.pods, &versionedPods, nil)\\n-\\t\\tif err != nil {\\n-\\t\\t\\tt.Fatalf(\"%s: error in versioning the pods: %s\", testCase.desc, err)\\n-\\t\\t}\\n-\\t\\tdata, err := runtime.Encode(testapi.Default.Codec(), versionedPods)\\n+\\t\\tdata, err := runtime.Encode(testapi.Default.Codec(), testCase.pods)\\n \\t\\tif err != nil {\\n \\t\\t\\tt.Fatalf(\"%s: error in encoding the pod: %v\", testCase.desc, err)\\n \\t\\t}'},\n",
       "  {'sha': '80c70f50b9528880e651e87cac2abb44d33a2799',\n",
       "   'filename': 'staging/src/k8s.io/apiserver/pkg/endpoints/apiserver_test.go',\n",
       "   'status': 'modified',\n",
       "   'additions': 15,\n",
       "   'deletions': 6,\n",
       "   'changes': 21,\n",
       "   'blob_url': 'https://github.com/kubernetes/kubernetes/blob/402e551ca27499a9dc211dd6e4eca21d9aa9d089/staging/src/k8s.io/apiserver/pkg/endpoints/apiserver_test.go',\n",
       "   'raw_url': 'https://github.com/kubernetes/kubernetes/raw/402e551ca27499a9dc211dd6e4eca21d9aa9d089/staging/src/k8s.io/apiserver/pkg/endpoints/apiserver_test.go',\n",
       "   'contents_url': 'https://api.github.com/repos/kubernetes/kubernetes/contents/staging/src/k8s.io/apiserver/pkg/endpoints/apiserver_test.go?ref=402e551ca27499a9dc211dd6e4eca21d9aa9d089',\n",
       "   'patch': '@@ -2675,16 +2675,25 @@ func TestGetWithOptions(t *testing.T) {\\n \\t\\t\\tt.Errorf(\"%s: unexpected response: %#v\", test.name, resp)\\n \\t\\t\\tcontinue\\n \\t\\t}\\n-\\t\\tvar itemOut genericapitesting.Simple\\n-\\t\\tbody, err := extractBody(resp, &itemOut)\\n+\\n+\\t\\tvar itemOut runtime.Object\\n+\\t\\tif test.rootScoped {\\n+\\t\\t\\titemOut = &genericapitesting.SimpleRoot{}\\n+\\t\\t} else {\\n+\\t\\t\\titemOut = &genericapitesting.Simple{}\\n+\\t\\t}\\n+\\t\\tbody, err := extractBody(resp, itemOut)\\n \\t\\tif err != nil {\\n \\t\\t\\tt.Errorf(\"%s: %v\", test.name, err)\\n \\t\\t\\tcontinue\\n \\t\\t}\\n-\\n-\\t\\tif itemOut.Name != simpleStorage.item.Name {\\n-\\t\\t\\tt.Errorf(\"%s: Unexpected data: %#v, expected %#v (%s)\", test.name, itemOut, simpleStorage.item, string(body))\\n-\\t\\t\\tcontinue\\n+\\t\\tif metadata, err := meta.Accessor(itemOut); err == nil {\\n+\\t\\t\\tif metadata.GetName() != simpleStorage.item.Name {\\n+\\t\\t\\t\\tt.Errorf(\"%s: Unexpected data: %#v, expected %#v (%s)\", test.name, itemOut, simpleStorage.item, string(body))\\n+\\t\\t\\t\\tcontinue\\n+\\t\\t\\t}\\n+\\t\\t} else {\\n+\\t\\t\\tt.Errorf(\"%s: Couldn\\'t get name from %#v: %v\", test.name, itemOut, err)\\n \\t\\t}\\n \\n \\t\\tvar opts *genericapitesting.SimpleGetOptions'},\n",
       "  {'sha': 'd48876936f3297f08de3cb49bf50de80fe88237a',\n",
       "   'filename': 'staging/src/k8s.io/kubectl/pkg/metricsutil/BUILD',\n",
       "   'status': 'modified',\n",
       "   'additions': 0,\n",
       "   'deletions': 1,\n",
       "   'changes': 1,\n",
       "   'blob_url': 'https://github.com/kubernetes/kubernetes/blob/402e551ca27499a9dc211dd6e4eca21d9aa9d089/staging/src/k8s.io/kubectl/pkg/metricsutil/BUILD',\n",
       "   'raw_url': 'https://github.com/kubernetes/kubernetes/raw/402e551ca27499a9dc211dd6e4eca21d9aa9d089/staging/src/k8s.io/kubectl/pkg/metricsutil/BUILD',\n",
       "   'contents_url': 'https://api.github.com/repos/kubernetes/kubernetes/contents/staging/src/k8s.io/kubectl/pkg/metricsutil/BUILD?ref=402e551ca27499a9dc211dd6e4eca21d9aa9d089',\n",
       "   'patch': '@@ -17,7 +17,6 @@ go_library(\\n         \"//staging/src/k8s.io/apimachinery/pkg/labels:go_default_library\",\\n         \"//staging/src/k8s.io/apimachinery/pkg/runtime/schema:go_default_library\",\\n         \"//staging/src/k8s.io/cli-runtime/pkg/printers:go_default_library\",\\n-        \"//staging/src/k8s.io/client-go/kubernetes/scheme:go_default_library\",\\n         \"//staging/src/k8s.io/client-go/kubernetes/typed/core/v1:go_default_library\",\\n         \"//staging/src/k8s.io/metrics/pkg/apis/metrics:go_default_library\",\\n         \"//staging/src/k8s.io/metrics/pkg/apis/metrics/v1alpha1:go_default_library\",'},\n",
       "  {'sha': '628b19f7b64e1d6bf62e0e149144f47373044053',\n",
       "   'filename': 'staging/src/k8s.io/kubectl/pkg/metricsutil/metrics_printer.go',\n",
       "   'status': 'modified',\n",
       "   'additions': 4,\n",
       "   'deletions': 12,\n",
       "   'changes': 16,\n",
       "   'blob_url': 'https://github.com/kubernetes/kubernetes/blob/402e551ca27499a9dc211dd6e4eca21d9aa9d089/staging/src/k8s.io/kubectl/pkg/metricsutil/metrics_printer.go',\n",
       "   'raw_url': 'https://github.com/kubernetes/kubernetes/raw/402e551ca27499a9dc211dd6e4eca21d9aa9d089/staging/src/k8s.io/kubectl/pkg/metricsutil/metrics_printer.go',\n",
       "   'contents_url': 'https://api.github.com/repos/kubernetes/kubernetes/contents/staging/src/k8s.io/kubectl/pkg/metricsutil/metrics_printer.go?ref=402e551ca27499a9dc211dd6e4eca21d9aa9d089',\n",
       "   'patch': '@@ -24,7 +24,6 @@ import (\\n \\t\"k8s.io/api/core/v1\"\\n \\t\"k8s.io/apimachinery/pkg/api/resource\"\\n \\t\"k8s.io/cli-runtime/pkg/printers\"\\n-\\t\"k8s.io/client-go/kubernetes/scheme\"\\n \\tmetricsapi \"k8s.io/metrics/pkg/apis/metrics\"\\n )\\n \\n@@ -86,9 +85,7 @@ func NewNodeMetricsSorter(metrics []metricsapi.NodeMetrics, sortBy string) (*Nod\\n \\tvar usages = make([]v1.ResourceList, len(metrics))\\n \\tif len(sortBy) > 0 {\\n \\t\\tfor i, v := range metrics {\\n-\\t\\t\\tif err := scheme.Scheme.Convert(&v.Usage, &usages[i], nil); err != nil {\\n-\\t\\t\\t\\treturn nil, err\\n-\\t\\t\\t}\\n+\\t\\t\\tv.Usage.DeepCopyInto(&usages[i])\\n \\t\\t}\\n \\t}\\n \\n@@ -166,10 +163,7 @@ func (printer *TopCmdPrinter) PrintNodeMetrics(metrics []metricsapi.NodeMetrics,\\n \\t}\\n \\tvar usage v1.ResourceList\\n \\tfor _, m := range metrics {\\n-\\t\\terr := scheme.Scheme.Convert(&m.Usage, &usage, nil)\\n-\\t\\tif err != nil {\\n-\\t\\t\\treturn err\\n-\\t\\t}\\n+\\t\\tm.Usage.DeepCopyInto(&usage)\\n \\t\\tprintMetricsLine(w, &ResourceMetricsInfo{\\n \\t\\t\\tName:      m.Name,\\n \\t\\t\\tMetrics:   usage,\\n@@ -260,11 +254,9 @@ func getPodMetrics(m *metricsapi.PodMetrics, printContainersOnly bool) (v1.Resou\\n \\t\\tpodMetrics[res], _ = resource.ParseQuantity(\"0\")\\n \\t}\\n \\n+\\tvar usage v1.ResourceList\\n \\tfor _, c := range m.Containers {\\n-\\t\\tvar usage v1.ResourceList\\n-\\t\\tif err := scheme.Scheme.Convert(&c.Usage, &usage, nil); err != nil {\\n-\\t\\t\\treturn nil, nil, err\\n-\\t\\t}\\n+\\t\\tc.Usage.DeepCopyInto(&usage)\\n \\t\\tcontainers[c.Name] = usage\\n \\t\\tif !printContainersOnly {\\n \\t\\t\\tfor _, res := range MeasuredResources {'}]}"
      ]
     },
     "execution_count": 27,
     "metadata": {},
     "output_type": "execute_result"
    }
   ],
   "source": [
    "#commit_test.raw_data['number']bef8d426f279064257416f78d66041c180efa67f\n",
    "#print(\"Hola\")\n",
    "commits[list(commits.keys())[0]]"
   ]
  },
  {
   "cell_type": "code",
   "execution_count": 34,
   "metadata": {},
   "outputs": [
    {
     "name": "stdout",
     "output_type": "stream",
     "text": [
      "CPU times: user 141 µs, sys: 35 µs, total: 176 µs\n",
      "Wall time: 470 µs\n"
     ]
    },
    {
     "data": {
      "text/plain": [
       "True"
      ]
     },
     "execution_count": 34,
     "metadata": {},
     "output_type": "execute_result"
    }
   ],
   "source": [
    "%%time\n",
    "commit_pages[30][0].sha in commits"
   ]
  },
  {
   "cell_type": "code",
   "execution_count": null,
   "metadata": {},
   "outputs": [],
   "source": []
  }
 ],
 "metadata": {
  "kernelspec": {
   "display_name": "Python 3",
   "language": "python",
   "name": "python3"
  },
  "language_info": {
   "codemirror_mode": {
    "name": "ipython",
    "version": 3
   },
   "file_extension": ".py",
   "mimetype": "text/x-python",
   "name": "python",
   "nbconvert_exporter": "python",
   "pygments_lexer": "ipython3",
   "version": "3.7.4"
  }
 },
 "nbformat": 4,
 "nbformat_minor": 2
}
